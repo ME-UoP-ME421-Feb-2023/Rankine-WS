{
  "nbformat": 4,
  "nbformat_minor": 0,
  "metadata": {
    "colab": {
      "provenance": [],
      "include_colab_link": true
    },
    "kernelspec": {
      "name": "python3",
      "display_name": "Python 3"
    },
    "language_info": {
      "name": "python"
    }
  },
  "cells": [
    {
      "cell_type": "markdown",
      "metadata": {
        "id": "view-in-github",
        "colab_type": "text"
      },
      "source": [
        "<a href=\"https://colab.research.google.com/github/ME-UoP-ME421/Rankine-WS/blob/main/E17401.ipynb\" target=\"_parent\"><img src=\"https://colab.research.google.com/assets/colab-badge.svg\" alt=\"Open In Colab\"/></a>"
      ]
    },
    {
      "cell_type": "code",
      "execution_count": null,
      "metadata": {
        "id": "cS7UPiuHBhkm"
      },
      "outputs": [],
      "source": []
    },
    {
      "cell_type": "markdown",
      "source": [
        "#INSTRUCTIONS"
      ],
      "metadata": {
        "id": "f4hlLvReBzvr"
      }
    },
    {
      "cell_type": "markdown",
      "source": [
        "* This is a group assignment. Complete the activities in groups that were assigned for ME421 for the vibrations lab.\n",
        "\n",
        "* Make a copy of this and save it in your group github group repository.\n",
        "\n",
        "* Do all your work, EXCLUSIVELY, in that saved notebook. Your github commits will serve as a refelection of your individual contributions. It will constitute 25% of your final grade for the lab.\n",
        "\n",
        "* Complete Tasks#1 and Task#2 by 5:00PM on 14/06/2023\n",
        "\n",
        "* Complete Tasks#3 and the Task#4 by 5:00PM on 21/06/2023 and demonstrate the work in the class on 21/06/2023.\n",
        "\n",
        "* Complete Task#5 by 5:00PM on 28/06/2023."
      ],
      "metadata": {
        "id": "XU1uZ6aWCH7C"
      }
    },
    {
      "cell_type": "markdown",
      "source": [
        "#References"
      ],
      "metadata": {
        "id": "LBRNUOZ_CMc-"
      }
    },
    {
      "cell_type": "markdown",
      "source": [
        "* https://colab.research.google.com/github/mugalan/classical-mechanics-from-a-geometric-point-of-view/blob/main/rigid-body-control/Mugas_Rigid_Body_Control.ipynb\n",
        "\n",
        "* https://github.com/mugalan/classical-mechanics-from-a-geometric-point-of-view/blob/main/rigid-body-control/MaithriPalaDHS_RigidBodyPIDControl_IITB_18_03_2023.pdf"
      ],
      "metadata": {
        "id": "CXuG-lUaCRum"
      }
    },
    {
      "cell_type": "markdown",
      "source": [
        "#Task#1"
      ],
      "metadata": {
        "id": "xSEIqzn0CVCX"
      }
    },
    {
      "cell_type": "markdown",
      "source": [
        "Conside a rigid body moving in space. Let $\\mathbf{b}$ be a body fixed frame with the origin coinciding with that of the center of mass of the body, $M$ be the tatal mass of the body, $\\mathbb{I}$ be the inertia tensor of the body with respect to the body frame $\\mathbf{b}$, $f^e$ be the resultant total external interactions acting on the particles of the body, and $\\tau^e$ be the total resultant of the moments of the external interactions about the center of mass of the body.\n",
        "\n",
        "Show that a general rigid body is descibed by the following simple equations in an inertial frame $\\mathbf{e}$ where the moments are taken about the center of mass of the rigid body."
      ],
      "metadata": {
        "id": "ONssy2ygCbYn"
      }
    },
    {
      "cell_type": "markdown",
      "source": [
        "\\begin{align}\n",
        "\\dot{o}&=\\frac{1}{M}p\\\\\n",
        "\\dot{R}&=\\widehat{\\omega}R,\\\\\n",
        "\\dot{p}&=f^e+f^u,\\\\\n",
        "\\dot{\\pi}&=\\tau^e+\\tau^u,\n",
        "\\end{align}\n",
        "where\n",
        "\\begin{align}\n",
        "\\omega &=(\\mathbb{I}_c^R)^{-1}\\pi,\n",
        "\\end{align}\n",
        "Here we have split the force and control moments into unmanipulatable and manipulatable (control) part. The manipulatable (control) part will be denoted by a superscript $u$."
      ],
      "metadata": {
        "id": "ci_bEpdzCicI"
      }
    },
    {
      "cell_type": "markdown",
      "source": [
        "## Answer"
      ],
      "metadata": {
        "id": "hSMH-xVTCmOO"
      }
    },
    {
      "cell_type": "markdown",
      "source": [
        "# Deriving the Equation for the Translation of the Center of Mass\n",
        "\n",
        "We will derive the equation **$\\dot{o} = \\frac{1}{M}p$** for the translation of the center of mass using basic principles of mechanics.\n",
        "\n",
        "We start with Newton's second law, which states that the rate of change of momentum of an object is equal to the net force acting on it. In vector form, this law can be expressed as:\n",
        "\n",
        "\\begin{equation}\n",
        "\\frac{d\\mathbf{p}}{dt} = \\sum \\mathbf{F}\n",
        "\\end{equation}\n",
        "\n",
        "where $\\frac{d\\mathbf{p}}{dt}$ is the derivative of the momentum vector $\\mathbf{p}$ with respect to time, and $\\sum \\mathbf{F}$ represents the sum of all external forces acting on the body.\n",
        "\n",
        "For a rigid body, the total linear momentum $\\mathbf{p}$ is the sum of the linear momenta of all particles in the body. Mathematically, it can be written as:\n",
        "\n",
        "\\begin{equation}\n",
        "\\mathbf{p} = \\sum m_i \\mathbf{v}_i\n",
        "\\end{equation}\n",
        "\n",
        "where $m_i$ is the mass of the $i$-th particle, and $\\mathbf{v}_i$ is its velocity.\n",
        "\n",
        "The center of mass of a rigid body can be defined as the weighted average of the positions of all particles, where the weights are given by the masses of the particles. Mathematically, it can be expressed as:\n",
        "\n",
        "\\begin{equation}\n",
        "\\mathbf{o} = \\frac{1}{M} \\sum m_i \\mathbf{r}_i\n",
        "\\end{equation}\n",
        "\n",
        "where $\\mathbf{o}$ is the position vector of the center of mass, $\\mathbf{r}_i$ is the position vector of the $i$-th particle, and $M$ is the total mass of the body, given by $M = \\sum m_i$.\n",
        "\n",
        "Now, let's differentiate the equation for the center of mass position with respect to time to find its rate of change:\n",
        "\n",
        "\\begin{align}\n",
        "\\dot{\\mathbf{o}} &= \\frac{d}{dt} \\left( \\frac{1}{M} \\sum m_i \\mathbf{r}_i \\right) \\\\\n",
        "&= \\frac{1}{M} \\sum m_i \\frac{d\\mathbf{r}_i}{dt} \\\\\n",
        "&= \\frac{1}{M} \\sum m_i \\mathbf{v}_i \\\\\n",
        "&= \\frac{1}{M} \\mathbf{p}\n",
        "\\end{align}\n",
        "\n",
        "In the third step, we used the fact that the derivative of the position vector with respect to time gives the velocity vector, so $\\frac{d\\mathbf{r}_i}{dt} = \\mathbf{v}_i$.\n",
        "\n",
        "Thus, we have derived the equation $\\dot{\\mathbf{o}} = \\frac{1}{M} \\mathbf{p}$, which shows that the rate of change of the center of mass position is equal to the total linear momentum divided by the total mass of the body.\n",
        "\n",
        "This equation is useful for analyzing the motion of rigid bodies and understanding how their center of mass moves under the influence of external forces. It allows us to relate the linear momentum of a system to the translation of its center of mass, providing insights into the overall motion of the body.\n"
      ],
      "metadata": {
        "id": "zxdM6PO1CuLX"
      }
    }
  ]
}