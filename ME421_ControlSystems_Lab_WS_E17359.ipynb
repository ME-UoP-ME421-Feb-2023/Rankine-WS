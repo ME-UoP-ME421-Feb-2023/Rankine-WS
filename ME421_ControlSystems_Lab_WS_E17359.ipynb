{
  "nbformat": 4,
  "nbformat_minor": 0,
  "metadata": {
    "colab": {
      "provenance": [],
      "include_colab_link": true
    },
    "kernelspec": {
      "name": "python3",
      "display_name": "Python 3"
    },
    "language_info": {
      "name": "python"
    }
  },
  "cells": [
    {
      "cell_type": "markdown",
      "metadata": {
        "id": "view-in-github",
        "colab_type": "text"
      },
      "source": [
        "<a href=\"https://colab.research.google.com/github/ME-UoP-ME421/Rankine-WS/blob/main/ME421_ControlSystems_Lab_WS_E17359.ipynb\" target=\"_parent\"><img src=\"https://colab.research.google.com/assets/colab-badge.svg\" alt=\"Open In Colab\"/></a>"
      ]
    },
    {
      "cell_type": "markdown",
      "source": [
        "#Instructions"
      ],
      "metadata": {
        "id": "tjwc7ZikCWjn"
      }
    },
    {
      "cell_type": "markdown",
      "source": [
        "* This is a group assignment. Complete the activities in groups that were assigned for ME421 for the vibrations lab.\n",
        "\n",
        "* Make a copy of this and save it in your group github group repository.\n",
        "\n",
        "* Do all your work, EXCLUSIVELY, in that saved notebook. Your github commits will serve as a refelection of your individual contributions. It will constitute 25% of your final grade for the lab.\n",
        "\n",
        "* Complete all the first 3 tasks by 21/06/2023 and demonstrate the work in the class on 21/06/2023.\n",
        "\n",
        "* Complete Tasks#1 and Task#2 by 5:00PM on 14/06/2023\n",
        "\n",
        "* Complete Tasks#3 and the Task#4 by 5:00PM on 21/06/2023 and demonstrate the work in the class on 21/06/2023.\n",
        "\n",
        "* Complete Task#5 by 5:00PM on 28/06/2023."
      ],
      "metadata": {
        "id": "pOeY40kCCZIY"
      }
    },
    {
      "cell_type": "markdown",
      "source": [
        "#References"
      ],
      "metadata": {
        "id": "xQxmvsoX2wtl"
      }
    },
    {
      "cell_type": "markdown",
      "source": [
        "* https://colab.research.google.com/github/mugalan/classical-mechanics-from-a-geometric-point-of-view/blob/main/rigid-body-control/Mugas_Rigid_Body_Control.ipynb\n",
        "\n",
        "* https://github.com/mugalan/classical-mechanics-from-a-geometric-point-of-view/blob/main/rigid-body-control/MaithriPalaDHS_RigidBodyPIDControl_IITB_18_03_2023.pdf"
      ],
      "metadata": {
        "id": "N2PYkHmG2y9o"
      }
    },
    {
      "cell_type": "markdown",
      "source": [
        "#Task#1"
      ],
      "metadata": {
        "id": "JhWYC6Kv2l4k"
      }
    },
    {
      "cell_type": "markdown",
      "metadata": {
        "id": "GjPELOm2sJQg"
      },
      "source": [
        "Conside a rigid body moving in space. Let $\\mathbf{b}$ be a body fixed frame with the origin coinciding with that of the center of mass of the body, $M$ be the tatal mass of the body, $\\mathbb{I}$ be the inertia tensor of the body with respect to the body frame $\\mathbf{b}$, $f^e$ be the resultant total external interactions acting on the particles of the body, and $\\tau^e$ be the total resultant of the moments of the external interactions about the center of mass of the body.\n",
        "\n",
        "Show that a general rigid body is descibed by the following simple equations in an inertial frame $\\mathbf{e}$ where the moments are taken about the center of mass of the rigid body."
      ]
    },
    {
      "cell_type": "markdown",
      "metadata": {
        "id": "2FFWl8Whs8HJ"
      },
      "source": [
        "\\begin{align}\n",
        "\\dot{o}&=\\frac{1}{M}p\\\\\n",
        "\\dot{R}&=\\widehat{\\omega}R,\\\\\n",
        "\\dot{p}&=f^e+f^u,\\\\\n",
        "\\dot{\\pi}&=\\tau^e+\\tau^u,\n",
        "\\end{align}\n",
        "where\n",
        "\\begin{align}\n",
        "\\omega &=(\\mathbb{I}_c^R)^{-1}\\pi,\n",
        "\\end{align}\n",
        "Here we have split the force and control moments into unmanipulatable and manipulatable (control) part. The manipulatable (control) part will be denoted by a superscript $u$."
      ]
    },
    {
      "cell_type": "markdown",
      "source": [
        "##SOLUTION\n"
      ],
      "metadata": {
        "id": "hLa6nedunm3O"
      }
    },
    {
      "cell_type": "markdown",
      "source": [
        "![RigidBody.png](data:image/png;base64,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)"
      ],
      "metadata": {
        "id": "xTFVPYonoAIl"
      }
    },
    {
      "cell_type": "markdown",
      "source": [],
      "metadata": {
        "id": "M84SZXfkoCy1"
      }
    },
    {
      "cell_type": "markdown",
      "source": [
        "\\begin{align}\n",
        "\\dot{o}&=\\frac{1}{M}p,\\\\\n",
        "\\end{align}\n"
      ],
      "metadata": {
        "id": "TYYaiWeB2MJr"
      }
    },
    {
      "cell_type": "markdown",
      "source": [
        "\n",
        "according to the Newton's second law, Rate of change of moment,\n",
        "\\begin{equation}\n",
        "\\frac{d\\mathbf{p}}{dt} = \\sum \\mathbf{F},\n",
        "\\end{equation}\n",
        "\n",
        "where $\\mathbf{p}$ is momentum vector and $\\sum \\mathbf{F}$ is the summation of all external forces acting on the body.\n",
        "\n",
        "But,\n",
        "\\begin{equation}\n",
        "\\mathbf{p} = \\sum m_i \\mathbf{v}_i,\n",
        "\\end{equation}\n",
        "\n",
        "where $m_i$ is the mass of the $i$-th particle, and $\\mathbf{v}_i$ is its velocity.\n",
        "\n",
        "The center of mass of a rigid body can be defined as the weighted average of the positions of all particles, where the weights are given by the masses of the particles. Mathematically, it can be expressed as:\n",
        "\\begin{equation}\n",
        "\\mathbf{o} = \\frac{1}{M} \\sum m_i \\mathbf{r}_i,\n",
        "\\end{equation}\n",
        "\n",
        "where $\\mathbf{o}$ is the position vector of the center of mass, $\\mathbf{r}_i$ is the position vector of the $i$-th particle, and $M$ is the total mass of the body, given by $M = \\sum m_i$.\n",
        "\n",
        "Now, let's differentiate the equation for the center of mass position with respect to time to find its rate of change:\n",
        "\\begin{align}\n",
        "\\frac{d\\mathbf{o}}{dt} &= \\dot{\\mathbf{o}}\n",
        "= \\frac{d}{dt} \\left( \\frac{1}{M} \\sum m_i \\mathbf{r}_i \\right)\n",
        "= \\frac{1}{M} \\sum m_i \\frac{d\\mathbf{r}_i}{dt}\n",
        "\\end{align}\n",
        "But,\n",
        "$\\frac{d\\mathbf{r}_i}{dt} = \\mathbf{v}_i$.\n",
        "\\begin{align}\n",
        "= \\frac{1}{M} \\sum m_i \\mathbf{v}_i\n",
        "= \\frac{1}{M} \\mathbf{p}.\n",
        "\\end{align}\n",
        "\n",
        "Therfore,\n",
        " \\begin{align}\n",
        " \\dot{\\mathbf{o}} = \\frac{1}{M} \\mathbf{p}\n",
        " \\end{align}\n"
      ],
      "metadata": {
        "id": "1Tmr7dsKGlDk"
      }
    },
    {
      "cell_type": "markdown",
      "source": [
        "\\begin{align}\n",
        "\\dot{R}=\\widehat{\\omega}R,\n",
        "\\end{align}\n",
        "\n",
        "Consider a point $P$ fixed in the body frame. Its position vector in the inertial frame\n",
        "\\begin{align}\n",
        "\\mathbf{r} = R \\mathbf{r}_0 \\longrightarrow (1)\n",
        "\\end{align}\n",
        "where $\\mathbf{r}_0$ is the position vector of $P$ in the body-fixed frame.\n",
        "\n",
        "Take the time derivative of $\\mathbf{r}$ to find its rate of change:\n",
        "\n",
        "\\begin{align}\n",
        "\\dot{\\mathbf{r}} &= \\frac{d}{dt} (R \\mathbf{r}_0)\n",
        "= \\dot{R} \\mathbf{r}_0. \\longrightarrow (2)\n",
        "\\end{align}\n",
        "\n",
        "We know,\n",
        "\\begin{equation}\n",
        "\\mathbf{v} = \\boldsymbol{\\omega} \\times \\mathbf{r} \\longrightarrow (3)\n",
        "\\end{equation}\n",
        "\n",
        "from (1) and (2),\n",
        "\\begin{align}\n",
        "\\dot{\\mathbf{r}} \\times \\mathbf{r}\n",
        "= (\\dot{R} \\mathbf{r}_0) \\times \\mathbf{r}\n",
        "= (\\dot{R} \\mathbf{r}_0) \\times (R \\mathbf{r}_0).\n",
        "\\end{align}\n",
        "\n",
        "Equate the expressions for $\\mathbf{v}$ from (3)\n",
        "\\begin{equation}\n",
        "\\boldsymbol{\\omega} \\times \\mathbf{r} = (\\dot{R} \\mathbf{r}_0) \\times (R \\mathbf{r}_0).\n",
        "\\end{equation}\n",
        "\n",
        "Since $\\mathbf{r}_0$ is an arbitrary vector, we can cancel it out from both sides of the equation:\n",
        "\\begin{equation}\n",
        "\\boldsymbol{\\omega} \\times \\mathbf{r} = \\dot{R} R \\mathbf{r}_0.\n",
        "\\end{equation}\n",
        "\n",
        "Recognize that $\\mathbf{r}$ is a general vector in the body frame, so we can write it as $\\mathbf{r} = R \\mathbf{r}_0$:\n",
        "\\begin{equation}\n",
        "\\boldsymbol{\\omega} \\times (R \\mathbf{r}_0) = \\dot{R} R \\mathbf{r}_0.\n",
        "\\end{equation}\n",
        "\n",
        "Multiply both sides by $R^{-1}$ from the right to simplify the equation:\n",
        "\\begin{equation}\n",
        "\\boldsymbol{\\omega} \\times \\mathbf{r}_0 = \\dot{R} R.\n",
        "\\end{equation}\n",
        "\n",
        "Finally, we recognize that $\\boldsymbol{\\omega} \\times \\mathbf{r}_0$ is the cross product of $\\boldsymbol{\\omega}$ with the position vector $\\mathbf{r}_0$, which can be expressed as the skew-symmetric matrix $\\widehat{\\boldsymbol{\\omega}}$:\n",
        "\\begin{equation}\n",
        "\\boldsymbol{\\omega} \\times \\mathbf{r}_0 = \\widehat{\\boldsymbol{\\omega}} \\mathbf{r}_0.\n",
        "\\end{equation}\n",
        "\n",
        "Substituting this into the previous equation, we obtain:\n",
        "\n",
        "\\begin{equation}\n",
        "\\widehat{\\boldsymbol{\\omega}} \\mathbf{r}_0 = \\dot{R} R.\n",
        "\\end{equation}\n",
        "\n",
        "This equation relates the derivative of the rotation matrix $\\dot{R}$ to the skew-symmetric matrix $\\widehat{\\boldsymbol{\\omega}}$. Thus, we have derived the equation $\\dot{R} = \\widehat{\\boldsymbol{\\omega}} R$, which describes the rotational motion of a rigid body.\n",
        "Since $R(t)R^T(t)=I_{3\\times 3}$, it follows that $\\dot{R}R^T+R\\dot{R}^T=0$,\n",
        "and hence that\n",
        "\\begin{align}\n",
        "\\dot{R}R^T=-R\\dot{R}^T=\\widehat{\\omega},\n",
        "\\end{align}\n",
        "where $\\widehat{\\Omega}$ is a skew symmetric matrix. The space of all $3\\times 3$ skew-symmetric matrices is denoted by $\\mathrm{so}(3)$.\n",
        "\n",
        "\n",
        "Thus we have that if $R(t)\\in \\mathrm{SO}(3)$ then\n",
        "\\begin{align}\n",
        "\\dot{R}R^T= \\widehat{\\omega} \\longrightarrow (1) \\\\\n",
        "R = R \\longrightarrow (2) \\\\\n",
        "(2)*(1)\\\\\n",
        "(\\dot{R}R^T)R = R(\\widehat{\\omega})\\\\\n",
        "\\dot R\\underbrace{(RR^T)}_{1}  = \\widehat{\\omega}R\\\\\n",
        "\\dot R = \\widehat{\\omega}R\n",
        "\\end{align}\n",
        "where  $\\widehat{\\omega}(t)\\in \\mathrm{so}(3)$.\n"
      ],
      "metadata": {
        "id": "3PuY-Dp1xBqc"
      }
    },
    {
      "cell_type": "markdown",
      "source": [
        "\\begin{align}\n",
        "\\dot{p} = f^e + f^u \\\\\n",
        "\\dot{\\pi} = \\tau^e + \\tau^u\n",
        "\\end{align}\n",
        "\n",
        "Linear Momentum: Newton's second law states that the rate of change of linear momentum is equal to the net force acting on an object. Considering a rigid body, we can express this as:\n",
        "p˙=∑f,\n",
        "\n",
        "where p˙ represents the time derivative of linear momentum, and ∑f denotes the sum of all forces acting on the body.\n",
        "\n",
        "External and Unmanipulatable Forces: In reality, forces acting on a body can come from both external sources and internal sources (such as control forces). To distinguish between these forces, we split the total force into two parts: the resultant external force fe and the unmanipulatable force fu. The resultant external force fe represents the net force exerted on the body by external sources, such as gravity, contact forces, or fluid interactions. These forces cannot be controlled or manipulated directly by the body.\n",
        "\n",
        "The unmanipulatable force fu represents forces that arise from internal sources (such as control forces) or external sources that the body can control or manipulate. These forces are typically used to achieve desired motions or control the behavior of the body.\n",
        "\n",
        "Angular Momentum: Similar to linear momentum, angular momentum is also conserved in the absence of external moments. However, when external moments act on a rigid body, the angular momentum changes. We can express this as:\n",
        "π˙=∑τ,\n",
        "\n",
        "where π˙ represents the time derivative of angular momentum, and ∑τ denotes the sum of all moments acting on the body.\n",
        "\n",
        "External and Unmanipulatable Moments: As with forces, moments acting on the body can come from both external and internal sources. To distinguish between them, we split the total moment into two parts: the resultant external moment τe and the unmanipulatable moment τu. The resultant external moment τe represents the net moment exerted on the body by external sources, such as torque applied by external forces or moments arising from interactions with the environment. These moments cannot be controlled or manipulated directly by the body.\n",
        "\n",
        "The unmanipulatable moment τu represents moments that arise from internal sources (such as control moments) or external sources that the body can control or manipulate. These moments are typically used to achieve desired rotations or control the orientation of the body.\n",
        "\n",
        "Combining External and Unmanipulatable Parts: To account for both the external and unmanipulatable forces and moments, we add the respective parts together:\n",
        "p˙=fe+fu,π˙=τe+τu.\n",
        "\n",
        "These equations express the change in linear momentum and angular momentum of a rigid body as the sum of the resultant external interactions (fe and τe) and the unmanipulatable interactions (fu and τu)."
      ],
      "metadata": {
        "id": "MCheq_z4OY2s"
      }
    },
    {
      "cell_type": "markdown",
      "source": [
        "#Task#2"
      ],
      "metadata": {
        "id": "PT5T8y9-3h1H"
      }
    },
    {
      "cell_type": "markdown",
      "source": [
        "Simulate the motion of a quadrotor UAV without resorting any parameterization of $SO(3)$ such as Euler angles or quaternions."
      ],
      "metadata": {
        "id": "iETMxXB04IZj"
      }
    },
    {
      "cell_type": "code",
      "source": [
        "import numpy as np\n",
        "\n",
        "# Quadrotor parameters\n",
        "g = 9.81\n",
        "m = 1.0\n",
        "I = np.eye(3)\n",
        "# Control inputs\n",
        "f_des = 10.0\n",
        "tau_des = np.array([0.1, 0.2, 0.3])\n",
        "# Simulation parameters\n",
        "dt = 0.001\n",
        "num_iterations = 1000\n",
        "# Initial conditions\n",
        "p = np.zeros(3)\n",
        "R = np.eye(3)\n",
        "v = np.zeros(3)\n",
        "omega = np.zeros(3)\n",
        "# Simulation loop\n",
        "for t in range(num_iterations):\n",
        "    # Compute net external forces and moments based on current state and control inputs\n",
        "    f_ext = np.array([0, 0, f_des])\n",
        "    tau_ext = tau_des\n",
        "    # Update linear and angular velocities\n",
        "    v += (1 / m) * (f_ext - m * g * np.array([0, 0, 1])) * dt\n",
        "    omega += np.linalg.inv(I).dot(tau_ext - np.cross(omega, I.dot(omega))) * dt\n",
        "    # Update position and orientation\n",
        "    R += np.cross(np.eye(3), omega).dot(R) * dt\n",
        "    p += R.dot(v) * dt\n",
        "\n",
        "# Print the final position and orientation\n",
        "print(\"Final Position:\", p)\n",
        "print(\"Final Orientation:\\n\", R)"
      ],
      "metadata": {
        "colab": {
          "base_uri": "https://localhost:8080/"
        },
        "id": "22E6Qvg6PZds",
        "outputId": "de530bdc-8c01-4d5b-cddf-6012a2aceac6"
      },
      "execution_count": null,
      "outputs": [
        {
          "output_type": "stream",
          "name": "stdout",
          "text": [
            "Final Position: [ 0.00487096 -0.002138    0.09489668]\n",
            "Final Orientation:\n",
            " [[ 0.98378633 -0.14678298  0.10325988]\n",
            " [ 0.1517718   0.98752795 -0.0422759 ]\n",
            " [-0.09577665  0.05724236  0.99376397]]\n"
          ]
        }
      ]
    },
    {
      "cell_type": "markdown",
      "source": [
        "#Task#3"
      ],
      "metadata": {
        "id": "iYtoUarB4L6Q"
      }
    },
    {
      "cell_type": "markdown",
      "source": [
        "Deerive a PID controller for the attitude control of a quadrorotor and use simulations to demibstrate the very large region of stability of the controller"
      ],
      "metadata": {
        "id": "AxOY5o-34TCz"
      }
    },
    {
      "cell_type": "markdown",
      "source": [
        "Here are few example our own implementations of this controller.\n",
        "\n",
        "* https://youtu.be/6E9WDQNVSYA\n",
        "* https://youtu.be/uUKxXImRMOA\n",
        "* https://youtu.be/zq05N8m_9SA\n",
        "* https://youtu.be/J5dThZGZN2g\n",
        "* https://youtu.be/J5MMp6Be3tU\n",
        "* https://youtu.be/6ZQgE1FI6Wc"
      ],
      "metadata": {
        "id": "cInu25giFEXw"
      }
    },
    {
      "cell_type": "markdown",
      "source": [
        "#Task#4"
      ],
      "metadata": {
        "id": "o6XRW2MR4nVw"
      }
    },
    {
      "cell_type": "markdown",
      "source": [
        "Derive a specialization of the controller develoed in Task#3 for the problem of stabilzing an inverted pendulum on a cart."
      ],
      "metadata": {
        "id": "u9vdw-yM4rem"
      }
    },
    {
      "cell_type": "markdown",
      "source": [
        "#Task#5"
      ],
      "metadata": {
        "id": "jkEiEv8sEPhG"
      }
    },
    {
      "cell_type": "markdown",
      "source": [
        " Experimentally verify the stability properties of the controller derived in Task#5 using the experimental setup available in the applied mechanics lab."
      ],
      "metadata": {
        "id": "w2WRdKSTEQ7i"
      }
    }
  ]
}