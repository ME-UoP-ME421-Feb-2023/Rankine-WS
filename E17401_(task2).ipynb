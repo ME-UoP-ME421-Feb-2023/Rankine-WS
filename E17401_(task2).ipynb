{
  "nbformat": 4,
  "nbformat_minor": 0,
  "metadata": {
    "colab": {
      "provenance": [],
      "include_colab_link": true
    },
    "kernelspec": {
      "name": "python3",
      "display_name": "Python 3"
    },
    "language_info": {
      "name": "python"
    }
  },
  "cells": [
    {
      "cell_type": "markdown",
      "metadata": {
        "id": "view-in-github",
        "colab_type": "text"
      },
      "source": [
        "<a href=\"https://colab.research.google.com/github/ME-UoP-ME421/Rankine-WS/blob/main/E17401_(task2).ipynb\" target=\"_parent\"><img src=\"https://colab.research.google.com/assets/colab-badge.svg\" alt=\"Open In Colab\"/></a>"
      ]
    },
    {
      "cell_type": "code",
      "execution_count": null,
      "metadata": {
        "id": "cS7UPiuHBhkm"
      },
      "outputs": [],
      "source": []
    },
    {
      "cell_type": "markdown",
      "source": [
        "#INSTRUCTIONS"
      ],
      "metadata": {
        "id": "f4hlLvReBzvr"
      }
    },
    {
      "cell_type": "markdown",
      "source": [
        "* This is a group assignment. Complete the activities in groups that were assigned for ME421 for the vibrations lab.\n",
        "\n",
        "* Make a copy of this and save it in your group github group repository.\n",
        "\n",
        "* Do all your work, EXCLUSIVELY, in that saved notebook. Your github commits will serve as a refelection of your individual contributions. It will constitute 25% of your final grade for the lab.\n",
        "\n",
        "* Complete Tasks#1 and Task#2 by 5:00PM on 14/06/2023\n",
        "\n",
        "* Complete Tasks#3 and the Task#4 by 5:00PM on 21/06/2023 and demonstrate the work in the class on 21/06/2023.\n",
        "\n",
        "* Complete Task#5 by 5:00PM on 28/06/2023."
      ],
      "metadata": {
        "id": "XU1uZ6aWCH7C"
      }
    },
    {
      "cell_type": "markdown",
      "source": [
        "#References"
      ],
      "metadata": {
        "id": "LBRNUOZ_CMc-"
      }
    },
    {
      "cell_type": "markdown",
      "source": [
        "* https://colab.research.google.com/github/mugalan/classical-mechanics-from-a-geometric-point-of-view/blob/main/rigid-body-control/Mugas_Rigid_Body_Control.ipynb\n",
        "\n",
        "* https://github.com/mugalan/classical-mechanics-from-a-geometric-point-of-view/blob/main/rigid-body-control/MaithriPalaDHS_RigidBodyPIDControl_IITB_18_03_2023.pdf"
      ],
      "metadata": {
        "id": "CXuG-lUaCRum"
      }
    },
    {
      "cell_type": "markdown",
      "source": [
        "#Task#1"
      ],
      "metadata": {
        "id": "xSEIqzn0CVCX"
      }
    },
    {
      "cell_type": "markdown",
      "source": [
        "Conside a rigid body moving in space. Let $\\mathbf{b}$ be a body fixed frame with the origin coinciding with that of the center of mass of the body, $M$ be the tatal mass of the body, $\\mathbb{I}$ be the inertia tensor of the body with respect to the body frame $\\mathbf{b}$, $f^e$ be the resultant total external interactions acting on the particles of the body, and $\\tau^e$ be the total resultant of the moments of the external interactions about the center of mass of the body.\n",
        "\n",
        "Show that a general rigid body is descibed by the following simple equations in an inertial frame $\\mathbf{e}$ where the moments are taken about the center of mass of the rigid body."
      ],
      "metadata": {
        "id": "ONssy2ygCbYn"
      }
    },
    {
      "cell_type": "markdown",
      "source": [
        "\\begin{align}\n",
        "\\dot{o}&=\\frac{1}{M}p\\\\\n",
        "\\dot{R}&=\\widehat{\\omega}R,\\\\\n",
        "\\dot{p}&=f^e+f^u,\\\\\n",
        "\\dot{\\pi}&=\\tau^e+\\tau^u,\n",
        "\\end{align}\n",
        "where\n",
        "\\begin{align}\n",
        "\\omega &=(\\mathbb{I}_c^R)^{-1}\\pi,\n",
        "\\end{align}\n",
        "Here we have split the force and control moments into unmanipulatable and manipulatable (control) part. The manipulatable (control) part will be denoted by a superscript $u$."
      ],
      "metadata": {
        "id": "ci_bEpdzCicI"
      }
    },
    {
      "cell_type": "markdown",
      "source": [
        "## Answer"
      ],
      "metadata": {
        "id": "hSMH-xVTCmOO"
      }
    },
    {
      "cell_type": "markdown",
      "source": [
        "# Deriving the Equation for the Translation of the Center of Mass\n",
        "\n",
        "We will derive the equation **$\\dot{o} = \\frac{1}{M}p$** for the translation of the center of mass using basic principles of mechanics.\n",
        "\n",
        "We start with Newton's second law, which states that the rate of change of momentum of an object is equal to the net force acting on it. In vector form, this law can be expressed as:\n",
        "\n",
        "\\begin{equation}\n",
        "\\frac{d\\mathbf{p}}{dt} = \\sum \\mathbf{F}\n",
        "\\end{equation}\n",
        "\n",
        "where $\\frac{d\\mathbf{p}}{dt}$ is the derivative of the momentum vector $\\mathbf{p}$ with respect to time, and $\\sum \\mathbf{F}$ represents the sum of all external forces acting on the body.\n",
        "\n",
        "For a rigid body, the total linear momentum $\\mathbf{p}$ is the sum of the linear momenta of all particles in the body. Mathematically, it can be written as:\n",
        "\n",
        "\\begin{equation}\n",
        "\\mathbf{p} = \\sum m_i \\mathbf{v}_i\n",
        "\\end{equation}\n",
        "\n",
        "where $m_i$ is the mass of the $i$-th particle, and $\\mathbf{v}_i$ is its velocity.\n",
        "\n",
        "The center of mass of a rigid body can be defined as the weighted average of the positions of all particles, where the weights are given by the masses of the particles. Mathematically, it can be expressed as:\n",
        "\n",
        "\\begin{equation}\n",
        "\\mathbf{o} = \\frac{1}{M} \\sum m_i \\mathbf{r}_i\n",
        "\\end{equation}\n",
        "\n",
        "where $\\mathbf{o}$ is the position vector of the center of mass, $\\mathbf{r}_i$ is the position vector of the $i$-th particle, and $M$ is the total mass of the body, given by $M = \\sum m_i$.\n",
        "\n",
        "Now, let's differentiate the equation for the center of mass position with respect to time to find its rate of change:\n",
        "\n",
        "\\begin{align}\n",
        "\\dot{\\mathbf{o}} &= \\frac{d}{dt} \\left( \\frac{1}{M} \\sum m_i \\mathbf{r}_i \\right) \\\\\n",
        "&= \\frac{1}{M} \\sum m_i \\frac{d\\mathbf{r}_i}{dt} \\\\\n",
        "&= \\frac{1}{M} \\sum m_i \\mathbf{v}_i \\\\\n",
        "&= \\frac{1}{M} \\mathbf{p}\n",
        "\\end{align}\n",
        "\n",
        "In the third step, we used the fact that the derivative of the position vector with respect to time gives the velocity vector, so $\\frac{d\\mathbf{r}_i}{dt} = \\mathbf{v}_i$.\n",
        "\n",
        "Thus, we have derived the equation $\\dot{\\mathbf{o}} = \\frac{1}{M} \\mathbf{p}$, which shows that the rate of change of the center of mass position is equal to the total linear momentum divided by the total mass of the body.\n",
        "\n",
        "This equation is useful for analyzing the motion of rigid bodies and understanding how their center of mass moves under the influence of external forces. It allows us to relate the linear momentum of a system to the translation of its center of mass, providing insights into the overall motion of the body.\n"
      ],
      "metadata": {
        "id": "zxdM6PO1CuLX"
      }
    },
    {
      "cell_type": "markdown",
      "source": [
        "\n",
        " Deriving Equations for a General Rigid Body\n",
        "\n",
        " Variables:\n",
        " - o: position vector of the center of mass in the inertial frame e\n",
        " - R: orientation matrix of the body\n",
        " - p: linear momentum of the body\n",
        " - pi: angular momentum of the body\n",
        " - M: total mass of the body\n",
        "\n",
        " Linear Velocity:\n",
        " The rate of change of linear momentum, $\\dot{p}$, is equal to the net force acting on the body divided by its mass according to Newton's second law:\n",
        " $\\dot{p} = f^e + f^u$\n",
        " where $f^e$ represents external forces and $f^u$ represents internal forces.\n",
        "\n",
        "# Angular Velocity:\n",
        " The angular momentum, $\\pi$, of the body is related to the angular velocity, $\\omega$, through the inertia matrix, $I_c^R$:\n",
        " $\\pi = I_c^R \\omega$\n",
        "\n",
        "# Rate of Change of Linear Momentum:\n",
        " By substituting $\\dot{p}$ with $\\frac{d}{dt}(M\\dot{o})$ and rearranging, we obtain:\n",
        " $M\\ddot{o} = f^e + f^u$\n",
        " Dividing by $M$ yields:\n",
        " $\\ddot{o} = \\frac{1}{M}(f^e + f^u)$\n",
        " $\\dot{o} = \\frac{1}{M} p$\n",
        "\n",
        "# Rate of Change of Angular Momentum:\n",
        " Differentiating the equation $\\dot{\\pi} = \\frac{d}{dt}(I_c^R \\omega)$ and substituting $\\omega$ with $(I_c^R)^{-1}\\pi$, we get:\n",
        " $\\dot{\\pi} = I_c^R \\left(\\frac{d}{dt}((I_c^R)^{-1})\\pi + \\tau^e + \\tau^u\\right)$\n",
        " Dividing by $I_c^R$ gives us:\n",
        " $\\frac{1}{I_c^R}\\dot{\\pi} = \\frac{d}{dt}((I_c^R)^{-1})\\pi + \\tau^e + \\tau^u$\n",
        " Using the relation $\\omega = (I_c^R)^{-1}\\pi$, we can rewrite the equation as:\n",
        "$\\omega = (I_c^R)^{-1}\\pi$\n",
        "\n",
        "# Final Equations:\n",
        " The set of equations that describe a general rigid body in an inertial frame, with moments taken about the center of mass, are:\n",
        " - $\\dot{o} = \\frac{1}{M} p$\n",
        " - $\\dot{R} = \\widehat{\\omega} R$\n",
        " - $\\dot{p} = f^e + f^u$\n",
        " - $\\dot{\\pi} = \\tau^e + \\tau^u$\n",
        " - $\\omega = (I_c^R)^{-1}\\pi$\n",
        "\n",
        " These equations capture the motion and dynamics of a rigid body, where $\\dot{o}$ represents the linear velocity of the center of mass, $\\dot{R}$ represents the rate of change of the orientation matrix, $\\dot{p}$ represents the rate of change of linear momentum, $\\dot{\\pi}$ represents the rate of change of angular momentum, and $\\omega$ represents the angular velocity.\n",
        "\n",
        "\n",
        "\n"
      ],
      "metadata": {
        "id": "FbJvvTB4Xv1T"
      }
    },
    {
      "cell_type": "markdown",
      "source": [],
      "metadata": {
        "id": "OjH22jPFYWeK"
      }
    },
    {
      "cell_type": "markdown",
      "source": [
        "**TASK 02**"
      ],
      "metadata": {
        "id": "G9CK3QzWJU80"
      }
    },
    {
      "cell_type": "markdown",
      "source": [
        "Q1)"
      ],
      "metadata": {
        "id": "vms__Ta0FOKO"
      }
    },
    {
      "cell_type": "markdown",
      "source": [
        "**Introduction to UAV (Unmanned Aerial Vehicle)**\n",
        "\n",
        "An Unmanned Aerial Vehicle (UAV), commonly known as a drone, is an aircraft that operates without a human pilot on board. UAVs have gained significant popularity and are utilized across various fields for a wide range of applications. In this article, we will explore the key aspects of UAVs.\n",
        "\n",
        "**Types of UAVs:** UAVs come in different sizes and configurations, ranging from small handheld devices to large fixed-wing aircraft. They can be classified into various types based on their design and purpose, including multirotors (e.g., quadcopters, hexacopters), fixed-wing UAVs, hybrid UAVs, and more.\n",
        "\n",
        "**Components of a UAV:** UAVs consist of several components that work together to enable their flight. These components typically include the airframe (body and structure), propulsion system (electric motors or combustion engines), flight control system (sensors and onboard computers for stabilization and control), communication systems, and payload (sensors, cameras, or other equipment).\n",
        "\n",
        "**Flight Modes:** UAVs can operate in different flight modes, which determine their behavior and control characteristics. Common flight modes include manual control (direct pilot input), autonomous flight (pre-programmed or real-time decision-making), and assisted flight (combining manual and autonomous control).\n",
        "\n",
        "**Applications:** UAVs are used in a wide range of applications across various industries. They are employed for aerial photography and videography, surveying and mapping, agriculture (crop monitoring and spraying), infrastructure inspection, wildlife monitoring, disaster management, package delivery, and more. UAVs offer advantages such as accessibility, cost-effectiveness, and the ability to access hard-to-reach areas.\n",
        "\n",
        "**Regulations:** As UAVs have become more prevalent, regulations have been implemented to ensure their safe and responsible operation. These regulations vary between countries and may include guidelines for UAV registration, pilot certification, flight restrictions (e.g., no-fly zones), and privacy considerations. It is essential for UAV operators to be aware of and comply with these regulations.\n",
        "\n",
        "**Future Developments:** The field of UAV technology is rapidly advancing. Ongoing research and development aim to enhance UAV capabilities, such as increasing flight endurance, improving obstacle avoidance systems, enabling swarming behavior for coordinated missions, and enhancing autonomous decision-making capabilities.\n",
        "\n",
        "*UAVs have revolutionized various industries by providing a versatile and flexible platform for aerial operations. Their ability to perform tasks remotely and autonomously has opened up new possibilities and applications. As technology advances and regulations adapt, UAVs are expected to play an increasingly vital role in numerous fields, driving innovation and transforming the way we approach aerial operations.*"
      ],
      "metadata": {
        "id": "wJ5uKO0hFQO1"
      }
    },
    {
      "cell_type": "markdown",
      "source": [
        "Q2)"
      ],
      "metadata": {
        "id": "LOmUT3qRI0CV"
      }
    },
    {
      "cell_type": "markdown",
      "source": [
        "To simulate the motion of a quadrotor UAV without using parameterization methods like Euler angles or quaternions, we can leverage the principles of rigid body dynamics and numerical integration methods.\n",
        "\n",
        "Defining the variables,\n",
        "\n",
        "Position vector **P = r = (X, Y, Z)**"
      ],
      "metadata": {
        "id": "9AaGw9EnFRuk"
      }
    },
    {
      "cell_type": "markdown",
      "source": [
        "![image.png](data:image/png;base64,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)\n",
        "\n",
        "The velocity vector represents the rate of change of the position vector with respect to time. It consists of three components: vx, vy, and vz. Here's the definition:\n",
        "\n",
        "Velocity Vector: **v = (vx, vy, vz)**\n",
        "\n",
        "![image.png](data:image/png;base64,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)\n",
        "\n",
        "The position and velocity vectors are crucial in determining the quadrotor's position and motion within the simulation. By updating these vectors using appropriate dynamics equations and numerical integration methods, we can accurately simulate the quadrotor's trajectory and behavior."
      ],
      "metadata": {
        "id": "tfZxZl3UI14z"
      }
    },
    {
      "cell_type": "markdown",
      "source": [],
      "metadata": {
        "id": "mpdAQkq-JvNl"
      }
    },
    {
      "cell_type": "code",
      "source": [
        "import numpy as np\n",
        "\n",
        "# Define the rotation angle in radians\n",
        "theta = np.pi/4  # Example: 45 degrees\n",
        "\n",
        "# Create the rotation matrix\n",
        "R = np.array([[np.cos(theta), -np.sin(theta), 0],\n",
        "              [np.sin(theta), np.cos(theta),  0],\n",
        "              [0,             0,              1]])\n",
        "\n",
        "# Print the rotation matrix\n",
        "print(R)\n",
        "\n"
      ],
      "metadata": {
        "colab": {
          "base_uri": "https://localhost:8080/"
        },
        "id": "tYsdTwkmKs_z",
        "outputId": "3c41501c-f3a1-4c5a-ec70-748a4ed1d0c3"
      },
      "execution_count": 2,
      "outputs": [
        {
          "output_type": "stream",
          "name": "stdout",
          "text": [
            "[[ 0.70710678 -0.70710678  0.        ]\n",
            " [ 0.70710678  0.70710678  0.        ]\n",
            " [ 0.          0.          1.        ]]\n"
          ]
        }
      ]
    },
    {
      "cell_type": "markdown",
      "source": [
        "**By considering 4 motors for inputs,**"
      ],
      "metadata": {
        "id": "4WabNpz4L3rf"
      }
    },
    {
      "cell_type": "code",
      "source": [
        "# Define control inputs (motor speeds or thrust values)\n",
        "w1 = 0.8  # Motor speed for rotor 1\n",
        "w2 = 0.6  # Motor speed for rotor 2\n",
        "w3 = 0.7  # Motor speed for rotor 3\n",
        "w4 = 0.9  # Motor speed for rotor 4\n"
      ],
      "metadata": {
        "id": "pjgrPJf7MDSc"
      },
      "execution_count": null,
      "outputs": []
    },
    {
      "cell_type": "markdown",
      "source": [
        "w1, w2, w3, w4 are indicators of the motor speeds.\n",
        "\n",
        "These control inputs determine the forces and moments generated by the rotors, which influence the motion and behavior of the quadrotor in the simulation. You can adjust these values based on your desired control strategy and scenario.\n",
        "\n",
        "Physical Parameters in Quadrotor Aerial Vehicle (QAV):\n",
        "\n",
        "- Mass (m):\n",
        "The mass of the quadrotor represents its total weight and is typically measured in kilograms (kg).\n",
        "\n",
        "- Gravity (g):\n",
        "Gravity represents the acceleration due to gravity and affects the quadrotor's vertical motion. It is typically measured in meters per second squared (m/s^2).\n",
        "\n",
        "- Thrust factor (kF):\n",
        "The thrust factor relates the motor speed or thrust generated by the rotors to the actual force produced. It is specific to the quadrotor's propellers and is usually determined experimentally.\n",
        "\n",
        "- Moment arm (L):\n",
        "The moment arm represents the distance between the quadrotor's center of mass and the rotor axis. It is used to calculate the moments generated by the rotors.\n",
        "\n",
        "These physical parameters are crucial for defining the dynamics equations and accurately simulating the quadrotor's motion. You can adjust these values according to the specific quadrotor model and simulation requirements.\n"
      ],
      "metadata": {
        "id": "FvZHUtgFMdnq"
      }
    },
    {
      "cell_type": "markdown",
      "source": [
        "The Dynamic Equations\n",
        "\n",
        "Linear acceleration:\n",
        "The linear acceleration of the quadrotor is influenced by the gravitational force and the thrust generated by the rotors. The equation is given by:\n",
        "\n",
        "\n",
        "\n"
      ],
      "metadata": {
        "id": "de-BitUSNfuC"
      }
    },
    {
      "cell_type": "code",
      "source": [
        "import numpy as np\n",
        "\n",
        "g = 9.81  # Acceleration due to gravity in m/s^2\n",
        "m = 1.5  # Mass of the quadrotor in kg\n",
        "kF = 0.5  # Thrust factor of the quadrotor\n",
        "L = 0.2  # Moment arm of the quadrotor in meters\n",
        "\n",
        "# Define control inputs (motor speeds or thrust values)\n",
        "w1 = 0.8  # Motor speed for rotor 1\n",
        "w2 = 0.6  # Motor speed for rotor 2\n",
        "w3 = 0.7  # Motor speed for rotor 3\n",
        "w4 = 0.9  # Motor speed for rotor 4\n",
        "\n",
        "a = np.array([0, 0, -g]) + (1/m) * (kF * (w1 + w2 + w3 + w4))\n",
        "print(a)\n"
      ],
      "metadata": {
        "colab": {
          "base_uri": "https://localhost:8080/"
        },
        "id": "R7yy3SbxNkoS",
        "outputId": "dc21bfc0-e2fc-43a9-8926-7380587da584"
      },
      "execution_count": 4,
      "outputs": [
        {
          "output_type": "stream",
          "name": "stdout",
          "text": [
            "[ 1.    1.   -8.81]\n"
          ]
        }
      ]
    },
    {
      "cell_type": "markdown",
      "source": [
        "In this equation, alpha represents the angular acceleration vector in the roll, pitch, and yaw directions, Ixx, Iyy, and Izz are the moments of inertia about the principal axes, L is the moment arm, kF is the thrust factor, kM is a constant related to the moment produced by the rotors, and w1, w2, w3, and w4 are the motor speeds or thrust values for the four rotors.\n",
        "\n",
        "These dynamic equations describe the quadrotor's linear and angular accelerations based on the control inputs and physical parameters. By integrating these equations over time using numerical methods, we can simulate the quadrotor's motion in the simulation."
      ],
      "metadata": {
        "id": "qFbsX1zSOewS"
      }
    },
    {
      "cell_type": "code",
      "source": [
        "import numpy as np\n",
        "\n",
        "# Define the moment of inertia values\n",
        "Ixx = 0.7\n",
        "Iyy = 0.8\n",
        "Izz = 0.2\n",
        "\n",
        "# Define the motor constant\n",
        "kM = 1.2\n",
        "\n",
        "# Define control inputs (motor speeds)\n",
        "w1 = 0.8  # Motor speed for rotor 1\n",
        "w2 = 0.6  # Motor speed for rotor 2\n",
        "w3 = 0.7  # Motor speed for rotor 3\n",
        "w4 = 0.9  # Motor speed for rotor 4\n",
        "\n",
        "# Calculate the angular accelerations\n",
        "alpha = np.array([(1/Ixx) * L * (kF * (w2 - w4)),\n",
        "                  (1/Iyy) * L * (kF * (w1 - w3)),\n",
        "                  (-1/Izz) * kM * (w1 - w2 + w3 - w4)])\n",
        "\n",
        "# Print the angular accelerations\n",
        "print(alpha)\n"
      ],
      "metadata": {
        "colab": {
          "base_uri": "https://localhost:8080/"
        },
        "id": "9EA1U9iWOH-t",
        "outputId": "a6191523-7737-407e-a264-85a9ab9ea2d4"
      },
      "execution_count": 5,
      "outputs": [
        {
          "output_type": "stream",
          "name": "stdout",
          "text": [
            "[-0.04285714  0.0125     -0.        ]\n"
          ]
        }
      ]
    },
    {
      "cell_type": "markdown",
      "source": [],
      "metadata": {
        "id": "oJEnJ5ESOOvS"
      }
    }
  ]
}