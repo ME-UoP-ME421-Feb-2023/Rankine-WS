{
  "nbformat": 4,
  "nbformat_minor": 0,
  "metadata": {
    "colab": {
      "provenance": [],
      "collapsed_sections": [
        "Q-BZgoppH8-p",
        "7p1v2B5RQU-9",
        "MCqNIH8hWaFC",
        "AkV5kfOET74e",
        "ix64_XTj3RK0",
        "VMonShpU0fkf",
        "V_wuzOMFgyIm",
        "wi6saxnvhXTf",
        "YrNmadvAiDrF",
        "_i4qRgr-ies_",
        "jcG552nCjAhC",
        "6vObiCeF_UTg",
        "4wJ_AboDSl-0",
        "qmFMA3GGSqkU",
        "HUCkg9aTTGUF",
        "5Vz9BTv1ky1x",
        "EgYzdaLn0DAL",
        "qWVKqX7K3WDK",
        "bpFso7jJAdWq",
        "aA7VldZyCYUy"
      ],
      "authorship_tag": "ABX9TyMCeLg3mleVHYPw7FycRPLX",
      "include_colab_link": true
    },
    "kernelspec": {
      "name": "python3",
      "display_name": "Python 3"
    },
    "language_info": {
      "name": "python"
    }
  },
  "cells": [
    {
      "cell_type": "markdown",
      "metadata": {
        "id": "view-in-github",
        "colab_type": "text"
      },
      "source": [
        "<a href=\"https://colab.research.google.com/github/ME-UoP-ME421/Rankine-WS/blob/main/ME421_Vibration_LAB_Rankine_WS.ipynb\" target=\"_parent\"><img src=\"https://colab.research.google.com/assets/colab-badge.svg\" alt=\"Open In Colab\"/></a>"
      ]
    },
    {
      "cell_type": "markdown",
      "source": [
        "# **ME421 - Vibration - Lab - Procedure**"
      ],
      "metadata": {
        "id": "fPymRZEEh8kS"
      }
    },
    {
      "cell_type": "markdown",
      "source": [
        "\n",
        "\n",
        "1.   Answer the in the lab, [pre-requisite competency assessment quiz.](https://feelsnew.pdn.ac.lk/mod/quiz/view.php?id=7869)\n",
        "2.   With detailed justification derive a finite dimensional approximation of the small amplitude motion of the system shown in the video assigned to your group. The model should capture the first four modes of resonance of the system.\n",
        "3. Simulate and animate the small amplitude motion of the system and use the simulations to provide, with justification, a qualitative desrcription of the small amplitude motion of the system\n",
        "4. Provide at least two soultions that will allow you to safely operate at frequencies near the second mode of resonance of the system. Justify your answer using simulations and compare the pros and cons of the two solutions.\n",
        "4. Use a Rashpberry Pi based data aquistion system and use that to measure the natural frequencies of the 2-DOF rotational plus translational system in the applied mechanics lab using FFTs methods.\n",
        "5. All your work will be collected and reported in a .ipynb notebook that will be maintained in a Github repository allocated to your group. All equations and mathematical expressions should be typed in LaTeX and all comutations should be performed using Python and should be contained in the same .ipynb notebbok.\n",
        "\n"
      ],
      "metadata": {
        "id": "-B7sQ99164ym"
      }
    },
    {
      "cell_type": "markdown",
      "source": [
        "#Q - Link chain vibration: Group Rankine-LC"
      ],
      "metadata": {
        "id": "CTAg97trbMRv"
      }
    },
    {
      "cell_type": "markdown",
      "source": [
        "##Group Assignment "
      ],
      "metadata": {
        "id": "eKobrprzx4ix"
      }
    },
    {
      "cell_type": "markdown",
      "source": [
        "* E/17/087\n",
        "* E/17/198\n",
        "* E/17/209\n",
        "* E/17/282"
      ],
      "metadata": {
        "id": "TXw5ybHUyxu5"
      }
    },
    {
      "cell_type": "markdown",
      "source": [
        "##Problem Description"
      ],
      "metadata": {
        "id": "ZE7WkKKXx72c"
      }
    },
    {
      "cell_type": "markdown",
      "source": [
        "* https://youtu.be/v9cwO1zEdiY"
      ],
      "metadata": {
        "id": "mmJNhALebRqy"
      }
    },
    {
      "cell_type": "markdown",
      "source": [
        "#Q - Whirling of a shaft: Group Rankine-WS\n",
        "\n"
      ],
      "metadata": {
        "id": "RgkgNY-ihBCc"
      }
    },
    {
      "cell_type": "markdown",
      "source": [
        "##Group Assignment "
      ],
      "metadata": {
        "id": "Ox6Y8wd3yFcv"
      }
    },
    {
      "cell_type": "markdown",
      "source": [
        "* E/17/355\n",
        "* E/17/359\n",
        "* E/17/401"
      ],
      "metadata": {
        "id": "2UJBEEfRyi7f"
      }
    },
    {
      "cell_type": "markdown",
      "source": [
        "##Problem Description"
      ],
      "metadata": {
        "id": "dVTM7PlVyjv7"
      }
    },
    {
      "cell_type": "markdown",
      "source": [
        "* https://youtu.be/a1K85Lkk7SY"
      ],
      "metadata": {
        "id": "RuBmj1dchFuu"
      }
    },
    {
      "cell_type": "markdown",
      "source": [
        "#Q - Cantelever beam: Group Rankine-CB"
      ],
      "metadata": {
        "id": "gNujFx7siB-J"
      }
    },
    {
      "cell_type": "markdown",
      "source": [
        "##Group Assignment "
      ],
      "metadata": {
        "id": "HbgMnhADyGHd"
      }
    },
    {
      "cell_type": "markdown",
      "source": [
        "* E/17/013\n",
        "* E/17/037\n",
        "* E/17/086\n",
        "* E/17/320"
      ],
      "metadata": {
        "id": "QRkcE1eXyWqG"
      }
    },
    {
      "cell_type": "markdown",
      "source": [
        "##Problem Description"
      ],
      "metadata": {
        "id": "_A147BQGyYGj"
      }
    },
    {
      "cell_type": "markdown",
      "source": [
        "* https://youtu.be/6RgJex3EKwk"
      ],
      "metadata": {
        "id": "PXuW6RveiHzl"
      }
    },
    {
      "cell_type": "markdown",
      "source": [
        "#Q - Axially Loaded Beam: Group Rankine-AL"
      ],
      "metadata": {
        "id": "bjJJ-zZnlpXh"
      }
    },
    {
      "cell_type": "markdown",
      "source": [
        "##Group Assignment "
      ],
      "metadata": {
        "id": "FoW59MWkyGmR"
      }
    },
    {
      "cell_type": "markdown",
      "source": [
        "* E/17/187\n",
        "* E/17/232\n",
        "* E/17/285"
      ],
      "metadata": {
        "id": "abF63-MXzg0l"
      }
    },
    {
      "cell_type": "markdown",
      "source": [
        "##Problem Description"
      ],
      "metadata": {
        "id": "j1bgLRIiyrGl"
      }
    },
    {
      "cell_type": "markdown",
      "source": [
        "* https://youtu.be/N2qkkK62Owg"
      ],
      "metadata": {
        "id": "5H-YaCOllvi1"
      }
    },
    {
      "cell_type": "markdown",
      "source": [
        "#Q - Flow Induced Resonance: Group Rankine-FI"
      ],
      "metadata": {
        "id": "GvD3JoJbpSNb"
      }
    },
    {
      "cell_type": "markdown",
      "source": [
        "##Group Assignment "
      ],
      "metadata": {
        "id": "9eFlwuS0yHI9"
      }
    },
    {
      "cell_type": "markdown",
      "source": [
        "* E/17/019\n",
        "* E/17/048\n",
        "* E/17/108\n",
        "* E/17/244"
      ],
      "metadata": {
        "id": "VdZZ5PQ9zpJ6"
      }
    },
    {
      "cell_type": "markdown",
      "source": [
        "##Problem Description"
      ],
      "metadata": {
        "id": "zDglbsnoyoc3"
      }
    },
    {
      "cell_type": "markdown",
      "source": [
        "* https://youtu.be/d1noaSZgsLU"
      ],
      "metadata": {
        "id": "my9QQmmTpV6M"
      }
    },
    {
      "cell_type": "markdown",
      "source": [
        "#Q - Rotating shaft on a flexural structure: Group Rankine-RF"
      ],
      "metadata": {
        "id": "lpg1Db5nmSFS"
      }
    },
    {
      "cell_type": "markdown",
      "source": [
        "##Group Assignment "
      ],
      "metadata": {
        "id": "73S7q2DByHyb"
      }
    },
    {
      "cell_type": "markdown",
      "source": [
        "* E/17/031\n",
        "* E/17/152\n",
        "* E/17/169\n",
        "* E/17/317"
      ],
      "metadata": {
        "id": "_Ggal6NIz3bu"
      }
    },
    {
      "cell_type": "markdown",
      "source": [
        "##Problem Description"
      ],
      "metadata": {
        "id": "IFQpCVN9ytzZ"
      }
    },
    {
      "cell_type": "markdown",
      "source": [
        "* https://youtu.be/R2hO--TIjjA"
      ],
      "metadata": {
        "id": "hK0Teg-GmaCZ"
      }
    },
    {
      "cell_type": "markdown",
      "source": [
        "#Q - Two Story Building: Group Rankine-TS"
      ],
      "metadata": {
        "id": "jW4i-9tvTjc9"
      }
    },
    {
      "cell_type": "markdown",
      "source": [
        "##Group Assignment "
      ],
      "metadata": {
        "id": "zfvSwDQVyIeB"
      }
    },
    {
      "cell_type": "markdown",
      "source": [
        "* E/17/009\n",
        "* E/17/032\n",
        "* E/17/095\n",
        "* E/17/136"
      ],
      "metadata": {
        "id": "JG5lUAz30Cs0"
      }
    },
    {
      "cell_type": "markdown",
      "source": [
        "##Problem Description"
      ],
      "metadata": {
        "id": "Kd_SiHmfyuok"
      }
    },
    {
      "cell_type": "markdown",
      "source": [
        "* https://www.youtube.com/watch?v=_0D_hMn12BA"
      ],
      "metadata": {
        "id": "_zX8UwmhaXeC"
      }
    }
  ]
}