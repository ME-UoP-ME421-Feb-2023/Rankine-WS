{
  "nbformat": 4,
  "nbformat_minor": 0,
  "metadata": {
    "colab": {
      "provenance": [],
      "include_colab_link": true
    },
    "kernelspec": {
      "name": "python3",
      "display_name": "Python 3"
    },
    "language_info": {
      "name": "python"
    }
  },
  "cells": [
    {
      "cell_type": "markdown",
      "metadata": {
        "id": "view-in-github",
        "colab_type": "text"
      },
      "source": [
        "<a href=\"https://colab.research.google.com/github/ME-UoP-ME421/Rankine-WS/blob/main/Rankine-WS.ipynb\" target=\"_parent\"><img src=\"https://colab.research.google.com/assets/colab-badge.svg\" alt=\"Open In Colab\"/></a>"
      ]
    },
    {
      "cell_type": "code",
      "execution_count": null,
      "metadata": {
        "id": "cS7UPiuHBhkm"
      },
      "outputs": [],
      "source": []
    },
    {
      "cell_type": "markdown",
      "source": [
        "#INSTRUCTIONS"
      ],
      "metadata": {
        "id": "f4hlLvReBzvr"
      }
    },
    {
      "cell_type": "markdown",
      "source": [
        "* This is a group assignment. Complete the activities in groups that were assigned for ME421 for the vibrations lab.\n",
        "\n",
        "* Make a copy of this and save it in your group github group repository.\n",
        "\n",
        "* Do all your work, EXCLUSIVELY, in that saved notebook. Your github commits will serve as a refelection of your individual contributions. It will constitute 25% of your final grade for the lab.\n",
        "\n",
        "* Complete Tasks#1 and Task#2 by 5:00PM on 14/06/2023\n",
        "\n",
        "* Complete Tasks#3 and the Task#4 by 5:00PM on 21/06/2023 and demonstrate the work in the class on 21/06/2023.\n",
        "\n",
        "* Complete Task#5 by 5:00PM on 28/06/2023."
      ],
      "metadata": {
        "id": "XU1uZ6aWCH7C"
      }
    },
    {
      "cell_type": "markdown",
      "source": [
        "#References"
      ],
      "metadata": {
        "id": "LBRNUOZ_CMc-"
      }
    },
    {
      "cell_type": "markdown",
      "source": [
        "* https://colab.research.google.com/github/mugalan/classical-mechanics-from-a-geometric-point-of-view/blob/main/rigid-body-control/Mugas_Rigid_Body_Control.ipynb\n",
        "\n",
        "* https://github.com/mugalan/classical-mechanics-from-a-geometric-point-of-view/blob/main/rigid-body-control/MaithriPalaDHS_RigidBodyPIDControl_IITB_18_03_2023.pdf"
      ],
      "metadata": {
        "id": "CXuG-lUaCRum"
      }
    },
    {
      "cell_type": "markdown",
      "source": [
        "#Task#1"
      ],
      "metadata": {
        "id": "xSEIqzn0CVCX"
      }
    },
    {
      "cell_type": "markdown",
      "source": [
        "Conside a rigid body moving in space. Let $\\mathbf{b}$ be a body fixed frame with the origin coinciding with that of the center of mass of the body, $M$ be the tatal mass of the body, $\\mathbb{I}$ be the inertia tensor of the body with respect to the body frame $\\mathbf{b}$, $f^e$ be the resultant total external interactions acting on the particles of the body, and $\\tau^e$ be the total resultant of the moments of the external interactions about the center of mass of the body.\n",
        "\n",
        "Show that a general rigid body is descibed by the following simple equations in an inertial frame $\\mathbf{e}$ where the moments are taken about the center of mass of the rigid body."
      ],
      "metadata": {
        "id": "ONssy2ygCbYn"
      }
    },
    {
      "cell_type": "markdown",
      "source": [
        "\\begin{align}\n",
        "\\dot{o}&=\\frac{1}{M}p\\\\\n",
        "\\dot{R}&=\\widehat{\\omega}R,\\\\\n",
        "\\dot{p}&=f^e+f^u,\\\\\n",
        "\\dot{\\pi}&=\\tau^e+\\tau^u,\n",
        "\\end{align}\n",
        "where\n",
        "\\begin{align}\n",
        "\\omega &=(\\mathbb{I}_c^R)^{-1}\\pi,\n",
        "\\end{align}\n",
        "Here we have split the force and control moments into unmanipulatable and manipulatable (control) part. The manipulatable (control) part will be denoted by a superscript $u$."
      ],
      "metadata": {
        "id": "ci_bEpdzCicI"
      }
    },
    {
      "cell_type": "markdown",
      "source": [
        "## Answer"
      ],
      "metadata": {
        "id": "hSMH-xVTCmOO"
      }
    },
    {
      "cell_type": "markdown",
      "source": [
        "# Deriving the Equation for the Translation of the Center of Mass\n",
        "\n",
        "We will derive the equation **$\\dot{o} = \\frac{1}{M}p$** for the translation of the center of mass using basic principles of mechanics.\n",
        "\n",
        "We start with Newton's second law, which states that the rate of change of momentum of an object is equal to the net force acting on it. In vector form, this law can be expressed as:\n",
        "\n",
        "\\begin{equation}\n",
        "\\frac{d\\mathbf{p}}{dt} = \\sum \\mathbf{F}\n",
        "\\end{equation}\n",
        "\n",
        "where $\\frac{d\\mathbf{p}}{dt}$ is the derivative of the momentum vector $\\mathbf{p}$ with respect to time, and $\\sum \\mathbf{F}$ represents the sum of all external forces acting on the body.\n",
        "\n",
        "For a rigid body, the total linear momentum $\\mathbf{p}$ is the sum of the linear momenta of all particles in the body. Mathematically, it can be written as:\n",
        "\n",
        "\\begin{equation}\n",
        "\\mathbf{p} = \\sum m_i \\mathbf{v}_i\n",
        "\\end{equation}\n",
        "\n",
        "where $m_i$ is the mass of the $i$-th particle, and $\\mathbf{v}_i$ is its velocity.\n",
        "\n",
        "The center of mass of a rigid body can be defined as the weighted average of the positions of all particles, where the weights are given by the masses of the particles. Mathematically, it can be expressed as:\n",
        "\n",
        "\\begin{equation}\n",
        "\\mathbf{o} = \\frac{1}{M} \\sum m_i \\mathbf{r}_i\n",
        "\\end{equation}\n",
        "\n",
        "where $\\mathbf{o}$ is the position vector of the center of mass, $\\mathbf{r}_i$ is the position vector of the $i$-th particle, and $M$ is the total mass of the body, given by $M = \\sum m_i$.\n",
        "\n",
        "Now, let's differentiate the equation for the center of mass position with respect to time to find its rate of change:\n",
        "\n",
        "\\begin{align}\n",
        "\\dot{\\mathbf{o}} &= \\frac{d}{dt} \\left( \\frac{1}{M} \\sum m_i \\mathbf{r}_i \\right) \\\\\n",
        "&= \\frac{1}{M} \\sum m_i \\frac{d\\mathbf{r}_i}{dt} \\\\\n",
        "&= \\frac{1}{M} \\sum m_i \\mathbf{v}_i \\\\\n",
        "&= \\frac{1}{M} \\mathbf{p}\n",
        "\\end{align}\n",
        "\n",
        "In the third step, we used the fact that the derivative of the position vector with respect to time gives the velocity vector, so $\\frac{d\\mathbf{r}_i}{dt} = \\mathbf{v}_i$.\n",
        "\n",
        "Thus, we have derived the equation $\\dot{\\mathbf{o}} = \\frac{1}{M} \\mathbf{p}$, which shows that the rate of change of the center of mass position is equal to the total linear momentum divided by the total mass of the body.\n",
        "\n",
        "This equation is useful for analyzing the motion of rigid bodies and understanding how their center of mass moves under the influence of external forces. It allows us to relate the linear momentum of a system to the translation of its center of mass, providing insights into the overall motion of the body.\n"
      ],
      "metadata": {
        "id": "zxdM6PO1CuLX"
      }
    },
    {
      "cell_type": "markdown",
      "source": [
        "$\\dot{R}=\\widehat{\\omega}R$......................(2)"
      ],
      "metadata": {
        "id": "NEKr_-QK7T9p"
      }
    },
    {
      "cell_type": "markdown",
      "source": [
        "Let us derive the equation $\\dot{R} = \\widehat{\\omega}R$ to describe the rotational motion of a rigid body using basic principles of rotational kinematics.\n",
        "\n",
        "Consider a rigid body rotating in three-dimensional space. The orientation of the body can be represented by a rotation matrix $R$, which acts as a mapping between the body-fixed frame and the inertial frame.\n",
        "\n",
        "The angular velocity vector $\\boldsymbol{\\omega}$ signifies the rate at which the body is rotating. It is a vector aligned with the axis of rotation and its magnitude represents the angular speed.\n",
        "\n",
        "The time derivative of the rotation matrix $R$ represents the rate of change of the body's orientation, denoted as $\\dot{R}$.\n",
        "\n",
        "The relationship between the angular velocity $\\boldsymbol{\\omega}$ and the derivative of the rotation matrix $\\dot{R}$ is given by the equation:\n",
        "\n",
        "\\begin{equation}\n",
        "\\dot{R} = \\widehat{\\boldsymbol{\\omega}} R,\n",
        "\\end{equation}\n",
        "\n",
        "where $\\widehat{\\boldsymbol{\\omega}}$ represents the skew-symmetric matrix corresponding to the angular velocity vector $\\boldsymbol{\\omega}$.\n",
        "\n",
        "Now, let's proceed with the derivation:\n",
        "\n",
        "Consider a point $P$ fixed in the body frame. Its position vector in the inertial frame can be expressed as $\\mathbf{r} = R \\mathbf{r}_0$, where $\\mathbf{r}_0$ denotes the position vector of $P$ in the body-fixed frame.\n",
        "\n",
        "Taking the time derivative of $\\mathbf{r}$ provides its rate of change:\n",
        "\n",
        "\\begin{align}\n",
        "\\dot{\\mathbf{r}} &= \\frac{d}{dt} (R \\mathbf{r}_0)\n",
        "= \\dot{R} \\mathbf{r}_0.\n",
        "\\end{align}\n",
        "\n",
        "We also know that the velocity $\\mathbf{v}$ of point $P$ can be obtained by taking the cross product of the angular velocity $\\boldsymbol{\\omega}$ and its position vector $\\mathbf{r}$:\n",
        "\\begin{equation}\n",
        "\\mathbf{v} = \\boldsymbol{\\omega} \\times \\mathbf{r}.\n",
        "\\end{equation}\n",
        "\n",
        "Differentiating $\\mathbf{r}$ using the product rule and simplifying, we get:\n",
        "\\begin{align}\n",
        "\\dot{\\mathbf{r}} = \\frac{d}{dt} (R \\mathbf{r}_0)\n",
        "= \\dot{R} \\mathbf{r}_0\n",
        "= (\\dot{R} \\mathbf{r}_0) \\times \\mathbf{r}\n",
        "= (\\dot{R} \\mathbf{r}_0) \\times (R \\mathbf{r}_0).\n",
        "\\end{align}\n",
        "\n",
        "Equating the expressions for $\\mathbf{v}$ obtained in the previous steps:\n",
        "\\begin{equation}\n",
        "\\boldsymbol{\\omega} \\times \\mathbf{r} = (\\dot{R} \\mathbf{r}_0) \\times (R \\mathbf{r}_0).\n",
        "\\end{equation}\n",
        "\n",
        "As $\\mathbf{r}_0$ is an arbitrary vector, we can eliminate it from both sides of the equation:\n",
        "\\begin{equation}\n",
        "\\boldsymbol{\\omega} \\times \\mathbf{r} = \\dot{R} R \\mathbf{r}_0.\n",
        "\\end{equation}\n",
        "\n",
        "Recognizing that $\\mathbf{r}$ is a general vector in the body frame, we can express it as $\\mathbf{r} = R \\mathbf{r}_0$:\n",
        "\\begin{equation}\n",
        "\\boldsymbol{\\omega} \\times (R \\mathbf{r}_0) = \\dot{R} R \\mathbf{r}_0.\n",
        "\\end{equation}\n",
        "\n",
        "By multiplying both sides by $R^{-1}$ from the right, we can simplify the equation:\n",
        "\\begin{equation}\n",
        "\\boldsymbol{\\omega} \\times \\mathbf{r}_0 = \\dot{R} R.\n",
        "\\end{equation}\n",
        "\n",
        "Finally, recognizing that $\\boldsymbol{\\omega} \\times \\mathbf{r}_0$ represents the cross product of $\\boldsymbol{\\omega}$ with the position vector $\\mathbf{r}_0$, which can be expressed as the skew-symmetric matrix $\\widehat{\\boldsymbol{\\omega}}$:\n",
        "\\begin{equation}\n",
        "\\boldsymbol{\\omega} \\times \\mathbf{r}_0 = \\widehat{\\boldsymbol{\\omega}} \\mathbf{r}_0.\n",
        "\\end{equation}\n",
        "\n",
        "Substituting this into the previous equation, we obtain:\n",
        "\n",
        "\\begin{equation}\n",
        "\\widehat{\\boldsymbol{\\omega}} \\mathbf{r}_0 = \\dot{R} R.\n",
        "\\end{equation}\n",
        "\n",
        "This equation establishes the relationship between the derivative of the rotation matrix $\\dot{R}$ and the skew-symmetric matrix $\\widehat{\\boldsymbol{\\omega}}$. Thus, we have derived the equation $\\dot{R} = \\widehat{\\boldsymbol{\\omega}} R$, which describes the rotational motion of a rigid body.\n",
        "\n",
        "\n"
      ],
      "metadata": {
        "id": "IS6VrDqy70hF"
      }
    },
    {
      "cell_type": "markdown",
      "source": [
        "$\\dot{p} = f^e + f^u$ and $\\dot{\\pi} = \\tau^e + \\tau^u$......................(2)"
      ],
      "metadata": {
        "id": "taRgv6RA8YdQ"
      }
    },
    {
      "cell_type": "markdown",
      "source": [
        "Let's derive the equations that describe the forces and moments acting on a rigid body using fundamental principles of classical mechanics.\n",
        "\n",
        "**Linear Momentum:**\n",
        "According to Newton's second law, the rate of change of linear momentum is equal to the net force acting on an object. For a rigid body, this can be expressed as:\n",
        "\\begin{equation}\n",
        "\\dot{p} = \\sum f,\n",
        "\\end{equation}\n",
        "where $\\dot{p}$ represents the time derivative of linear momentum, and $\\sum f$ denotes the sum of all forces acting on the body.\n",
        "\n",
        "**External and Non-Controllable Forces:**\n",
        "In reality, forces acting on a body can come from external sources as well as internal sources that the body can control or manipulate. To differentiate between these forces, we can split the total force into two components: the resultant external force $f^e$ and the non-controllable force $f^u$.\n",
        "The resultant external force $f^e$ represents the net force exerted on the body by external sources, such as gravity, contact forces, or fluid interactions. These forces are not under the direct control of the body.\n",
        "\n",
        "The non-controllable force $f^u$ represents forces that arise from internal sources (such as control forces) or external sources that the body cannot directly control or manipulate. These forces may arise due to inherent characteristics or interactions with the environment.\n",
        "\n",
        "**Angular Momentum:**\n",
        "Similar to linear momentum, angular momentum is conserved in the absence of external moments. However, when external moments act on a rigid body, the angular momentum changes. This can be expressed as:\n",
        "\\begin{equation}\n",
        "\\dot{\\pi} = \\sum \\tau,\n",
        "\\end{equation}\n",
        "where $\\dot{\\pi}$ represents the time derivative of angular momentum, and $\\sum \\tau$ denotes the sum of all moments acting on the body.\n",
        "\n",
        "**External and Non-Controllable Moments:**\n",
        "Analogous to forces, moments acting on the body can come from external sources or internal sources that the body can control or manipulate. To distinguish between them, we divide the total moment into two components: the resultant external moment $\\tau^e$ and the non-controllable moment $\\tau^u$.\n",
        "The resultant external moment $\\tau^e$ represents the net moment exerted on the body by external sources, such as torque applied by external forces or moments arising from interactions with the environment. These moments are beyond the direct control of the body.\n",
        "\n",
        "The non-controllable moment $\\tau^u$ represents moments that arise from internal sources (such as control moments) or external sources that the body cannot directly control or manipulate. These moments may arise due to inherent characteristics or interactions with the environment.\n",
        "\n",
        "**Combining External and Non-Controllable Components:**\n",
        "To account for both the external and non-controllable forces and moments, we add the respective components together:\n",
        "\\begin{equation}\n",
        "\\dot{p} = f^e + f^u, \\quad \\dot{\\pi} = \\tau^e + \\tau^u.\n",
        "\\end{equation}\n",
        "These equations express the change in linear momentum and angular momentum of a rigid body as the sum of the resultant external interactions ($f^e$ and $\\tau^e$) and the non-controllable interactions ($f^u$ and $\\tau^u$)."
      ],
      "metadata": {
        "id": "3iM3W1Qu8zVq"
      }
    }
  ]
}